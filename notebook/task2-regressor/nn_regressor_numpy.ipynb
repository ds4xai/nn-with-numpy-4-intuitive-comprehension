{
 "cells": [
  {
   "cell_type": "markdown",
   "id": "126eb70f-8682-452e-88eb-f03bb6b9e6c9",
   "metadata": {},
   "source": [
    "#### Libraries"
   ]
  },
  {
   "cell_type": "code",
   "execution_count": 1,
   "id": "4c4aaede-a98f-4e9d-b4ac-d453b03ffdb7",
   "metadata": {},
   "outputs": [],
   "source": [
    "import numpy as np\n",
    "import pandas as pd\n",
    "import matplotlib.pyplot as plt"
   ]
  },
  {
   "cell_type": "markdown",
   "id": "15e16d28-0d89-4699-b7f7-e94153520d31",
   "metadata": {},
   "source": [
    "#### Load and print data"
   ]
  },
  {
   "cell_type": "code",
   "execution_count": 2,
   "id": "ceeb3657-849c-4063-9275-4cb8673fc090",
   "metadata": {},
   "outputs": [
    {
     "data": {
      "text/html": [
       "<div>\n",
       "<style scoped>\n",
       "    .dataframe tbody tr th:only-of-type {\n",
       "        vertical-align: middle;\n",
       "    }\n",
       "\n",
       "    .dataframe tbody tr th {\n",
       "        vertical-align: top;\n",
       "    }\n",
       "\n",
       "    .dataframe thead th {\n",
       "        text-align: right;\n",
       "    }\n",
       "</style>\n",
       "<table border=\"1\" class=\"dataframe\">\n",
       "  <thead>\n",
       "    <tr style=\"text-align: right;\">\n",
       "      <th></th>\n",
       "      <th>squareMeters</th>\n",
       "      <th>numberOfRooms</th>\n",
       "      <th>hasYard</th>\n",
       "      <th>hasPool</th>\n",
       "      <th>floors</th>\n",
       "      <th>cityCode</th>\n",
       "      <th>cityPartRange</th>\n",
       "      <th>numPrevOwners</th>\n",
       "      <th>made</th>\n",
       "      <th>isNewBuilt</th>\n",
       "      <th>hasStormProtector</th>\n",
       "      <th>basement</th>\n",
       "      <th>attic</th>\n",
       "      <th>garage</th>\n",
       "      <th>hasStorageRoom</th>\n",
       "      <th>hasGuestRoom</th>\n",
       "      <th>price</th>\n",
       "    </tr>\n",
       "  </thead>\n",
       "  <tbody>\n",
       "    <tr>\n",
       "      <th>0</th>\n",
       "      <td>75523</td>\n",
       "      <td>3</td>\n",
       "      <td>0</td>\n",
       "      <td>1</td>\n",
       "      <td>63</td>\n",
       "      <td>9373</td>\n",
       "      <td>3</td>\n",
       "      <td>8</td>\n",
       "      <td>2005</td>\n",
       "      <td>0</td>\n",
       "      <td>1</td>\n",
       "      <td>4313</td>\n",
       "      <td>9005</td>\n",
       "      <td>956</td>\n",
       "      <td>0</td>\n",
       "      <td>7</td>\n",
       "      <td>7559081.5</td>\n",
       "    </tr>\n",
       "    <tr>\n",
       "      <th>1</th>\n",
       "      <td>80771</td>\n",
       "      <td>39</td>\n",
       "      <td>1</td>\n",
       "      <td>1</td>\n",
       "      <td>98</td>\n",
       "      <td>39381</td>\n",
       "      <td>8</td>\n",
       "      <td>6</td>\n",
       "      <td>2015</td>\n",
       "      <td>1</td>\n",
       "      <td>0</td>\n",
       "      <td>3653</td>\n",
       "      <td>2436</td>\n",
       "      <td>128</td>\n",
       "      <td>1</td>\n",
       "      <td>2</td>\n",
       "      <td>8085989.5</td>\n",
       "    </tr>\n",
       "    <tr>\n",
       "      <th>2</th>\n",
       "      <td>55712</td>\n",
       "      <td>58</td>\n",
       "      <td>0</td>\n",
       "      <td>1</td>\n",
       "      <td>19</td>\n",
       "      <td>34457</td>\n",
       "      <td>6</td>\n",
       "      <td>8</td>\n",
       "      <td>2021</td>\n",
       "      <td>0</td>\n",
       "      <td>0</td>\n",
       "      <td>2937</td>\n",
       "      <td>8852</td>\n",
       "      <td>135</td>\n",
       "      <td>1</td>\n",
       "      <td>9</td>\n",
       "      <td>5574642.1</td>\n",
       "    </tr>\n",
       "  </tbody>\n",
       "</table>\n",
       "</div>"
      ],
      "text/plain": [
       "   squareMeters  numberOfRooms  hasYard  hasPool  floors  cityCode  \\\n",
       "0         75523              3        0        1      63      9373   \n",
       "1         80771             39        1        1      98     39381   \n",
       "2         55712             58        0        1      19     34457   \n",
       "\n",
       "   cityPartRange  numPrevOwners  made  isNewBuilt  hasStormProtector  \\\n",
       "0              3              8  2005           0                  1   \n",
       "1              8              6  2015           1                  0   \n",
       "2              6              8  2021           0                  0   \n",
       "\n",
       "   basement  attic  garage  hasStorageRoom  hasGuestRoom      price  \n",
       "0      4313   9005     956               0             7  7559081.5  \n",
       "1      3653   2436     128               1             2  8085989.5  \n",
       "2      2937   8852     135               1             9  5574642.1  "
      ]
     },
     "execution_count": 2,
     "metadata": {},
     "output_type": "execute_result"
    }
   ],
   "source": [
    "df = pd.read_csv(\"ParisHousing.csv\")\n",
    "df.head(3)"
   ]
  },
  {
   "cell_type": "code",
   "execution_count": null,
   "id": "bcf293eb-1d80-4c0c-9aeb-53b16109865a",
   "metadata": {},
   "outputs": [],
   "source": []
  },
  {
   "cell_type": "markdown",
   "id": "4c248e89-228c-4cf3-8313-95c4fdb36d3f",
   "metadata": {},
   "source": [
    " #### Missing values"
   ]
  },
  {
   "cell_type": "code",
   "execution_count": 3,
   "id": "1dc09990-7f5d-4216-9fc1-6ea20ac45ce2",
   "metadata": {},
   "outputs": [
    {
     "data": {
      "text/plain": [
       "0"
      ]
     },
     "execution_count": 3,
     "metadata": {},
     "output_type": "execute_result"
    }
   ],
   "source": [
    "df.isna().sum().sum()"
   ]
  },
  {
   "cell_type": "markdown",
   "id": "31828d08-252a-4aa2-9c80-1af1a5085ae0",
   "metadata": {},
   "source": [
    "\n",
    "#### Split and standardize data"
   ]
  },
  {
   "cell_type": "code",
   "execution_count": 4,
   "id": "b32a6aa3-b28a-4a04-bcd6-f7574a1d5ac1",
   "metadata": {},
   "outputs": [
    {
     "name": "stdout",
     "output_type": "stream",
     "text": [
      "Train examples:  8000 \tDev examples:  2000\n"
     ]
    }
   ],
   "source": [
    "np.random.seed(1)\n",
    "# split\n",
    "df_train = df.sample(frac=.80)\n",
    "df_dev   = df.drop(index=df_train.index)\n",
    "print(\"Train examples: \", len(df_train), \"\\tDev examples: \", len(df_dev))"
   ]
  },
  {
   "cell_type": "code",
   "execution_count": 5,
   "id": "569a6a9d-e903-421d-a0e1-82a621cc3cd9",
   "metadata": {},
   "outputs": [
    {
     "name": "stdout",
     "output_type": "stream",
     "text": [
      "\t\tDimentionality in training\n",
      "features dim: (16, 8000) \tTarget dim: (1, 8000)\n",
      "\n",
      "\t\tDimentionality in Dev\n",
      "features dim: (16, 2000) \tTarget dim: (1, 2000)\n"
     ]
    }
   ],
   "source": [
    "X_train, y_train  = df_train.iloc[:, :-1].values.T, df_train.iloc[:, -1].values.reshape(1, -1)\n",
    "X_dev, y_dev      = df_dev.iloc[:, :-1].values.T, df_dev.iloc[:, -1].values.reshape(1, -1)\n",
    "\n",
    "# mean and standard deviation\n",
    "mu, sigma =  np.mean(X_train, axis=1, keepdims=True),  np.std(X_train, axis=1, keepdims=True)\n",
    "# standardization\n",
    "X_train =  (X_train - mu) / sigma\n",
    "X_dev   = (X_dev - mu) / sigma\n",
    "\n",
    "\n",
    "# dimensionality in trainning\n",
    "print(\"\\t\\tDimentionality in training\")\n",
    "print(f\"features dim: {X_train.shape} \\tTarget dim: {y_train.shape}\")\n",
    "\n",
    "print(\"\\n\\t\\tDimentionality in Dev\")\n",
    "print(f\"features dim: {X_dev.shape} \\tTarget dim: {y_dev.shape}\")"
   ]
  },
  {
   "cell_type": "markdown",
   "id": "50f04e73-b795-4a6e-95c5-a612c1e8d439",
   "metadata": {},
   "source": [
    " #### Activation functions"
   ]
  },
  {
   "cell_type": "code",
   "execution_count": 6,
   "id": "b83e9702-0348-420b-a31a-16706797bf45",
   "metadata": {},
   "outputs": [],
   "source": [
    "########################### activation functions ##############################\n",
    "\n",
    "def ReLU(z):\n",
    "    return np.maximum(0, z)\n",
    "\n",
    "def dReLU(z):\n",
    "    return np.where(z > 0, 1, 0)\n",
    "\n",
    "def LeakyReLU(z, alpha=0.01):\n",
    "    return np.where(z > 0, z, alpha * z)\n",
    "\n",
    "def dLeakyReLU(z, alpha=0.01):\n",
    "    return np.where(z > 0, 1, alpha)\n",
    "\n",
    "def Tanh(z):\n",
    "    return np.tanh(z)\n",
    "\n",
    "def dTanh(z):\n",
    "    return 1 - np.tanh(z)**2\n",
    "\n",
    "def Sigmoid(z):\n",
    "    return 1 / (1 + np.exp(-z))\n",
    "\n",
    "def dSigmoid(z):\n",
    "    s = Sigmoid(z)\n",
    "    return s * (1 - s)\n",
    "\n",
    "def Softmax(z):\n",
    "    exp_z = np.exp(z - np.max(z, axis=0, keepdims=True))\n",
    "    return exp_z / np.sum(exp_z, axis=0, keepdims=True)\n",
    "\n",
    "def dSoftmax(z):\n",
    "    s = Softmax(z)\n",
    "    return s * (1 - s)\n",
    "\n",
    "# dictionary of activation functions\n",
    "dict_activation = {\n",
    "    \"relu\": (ReLU, dReLU),\n",
    "    \"leakyrelu\": (LeakyReLU, dLeakyReLU),\n",
    "    \"tanh\": (Tanh, dTanh),\n",
    "    \"sigmoid\": (Sigmoid, dSigmoid), \n",
    "    \"Softmax\": (Softmax, dSoftmax)\n",
    "}\n",
    "\n",
    "\n",
    "################################ loss functions ##############################\n",
    "def binary_cross_entropy_loss(y, y_hat):\n",
    "    m = y.shape[1]\n",
    "    loss = -np.sum(y * np.log(y_hat) + (1 - y) * np.log(1 - y_hat)) / m\n",
    "    return loss\n",
    "\n",
    "def categorical_cross_entropy_loss(y, y_hat):\n",
    "    m = y.shape[1]\n",
    "    epsilon = 1e-10  # numrerical stability \n",
    "    loss = -np.sum(np.sum(np.multiply(y, np.log(y_hat + epsilon)), axis=0)) / m\n",
    "    return loss\n",
    "\n",
    "def mse_loss(y, y_hat):\n",
    "    return np.mean(np.square(y_hat-y))"
   ]
  },
  {
   "cell_type": "code",
   "execution_count": 7,
   "id": "16f81a8f-f19f-451a-b3ca-141ed04c5aa0",
   "metadata": {},
   "outputs": [],
   "source": [
    "class Optimizer:\n",
    "    def __init__(self, learning_rate=0.01, beta1=0.9, beta2=0.999, epsilon=1e-8):\n",
    "        self.learning_rate = learning_rate\n",
    "        self.beta1 = beta1\n",
    "        self.beta2 = beta2\n",
    "        self.epsilon = epsilon\n",
    "        self.momentums = {}  # Store momentums for each parameter\n",
    "        self.rmsprops = {}  # Store squared gradients for each parameter\n",
    "        self.t = 0  # Time step counter for Adam\n",
    "\n",
    "    def update_parameters_SGD(self, model, learning_rate=None):\n",
    "        learning_rate = learning_rate or self.learning_rate\n",
    "        for key in model.parameters.keys():\n",
    "            model.parameters[key] -= learning_rate * model.gradients[\"d\" + key]\n",
    "\n",
    "    def update_parameters_SGD_with_momentum(self, model, learning_rate=None, momentum=None):\n",
    "        learning_rate = learning_rate or self.learning_rate\n",
    "        momentum = momentum or self.beta1\n",
    "\n",
    "        for key in model.parameters.keys():\n",
    "            if key not in self.momentums:\n",
    "                self.momentums[key] = np.zeros_like(model.parameters[key])\n",
    "\n",
    "            self.momentums[key] = momentum * self.momentums[key] + (1 - momentum) * model.gradients[\"d\" + key]\n",
    "            model.parameters[key] -= learning_rate * self.momentums[key]\n",
    "\n",
    "    def update_parameters_RMSProp(self, model, learning_rate=None, beta2=None, epsilon=None):\n",
    "        learning_rate = learning_rate or self.learning_rate\n",
    "        beta2 = beta2 or self.beta2\n",
    "        epsilon = epsilon or self.epsilon\n",
    "\n",
    "        for key in model.parameters.keys():\n",
    "            if key not in self.rmsprops:\n",
    "                self.rmsprops[key] = np.zeros_like(model.parameters[key])\n",
    "\n",
    "            self.rmsprops[key] = beta2 * self.rmsprops[key] + (1 - beta2) * np.square(model.gradients[\"d\" + key])\n",
    "            model.parameters[key] -= learning_rate * (model.gradients[\"d\" + key] / np.sqrt(self.rmsprops[key] + epsilon))\n",
    "\n",
    "    def update_parameters_Adam(self, model, learning_rate=None, beta1=None, beta2=None, epsilon=None):\n",
    "        self.t += 1\n",
    "        learning_rate = learning_rate or self.learning_rate\n",
    "        for key in model.parameters.keys():\n",
    "            if key not in self.momentums:\n",
    "                self.momentums[key] = np.zeros_like(model.parameters[key])\n",
    "            if key not in self.rmsprops:\n",
    "                self.rmsprops[key] = np.zeros_like(model.parameters[key])\n",
    "\n",
    "            self.momentums[key] = self.beta1 * self.momentums[key] + (1 - self.beta1) * model.gradients[\"d\" + key]\n",
    "            self.rmsprops[key] = self.beta2 * self.rmsprops[key] + (1 - self.beta2) * np.square(model.gradients[\"d\" + key])\n",
    "            \n",
    "            mnt_corrected = self.momentums[key] / (1 - self.beta1 ** self.t)\n",
    "            rms_corrected = self.rmsprops[key] / (1 - self.beta2 ** self.t)\n",
    "            model.parameters[key] -= learning_rate * mnt_corrected / (np.sqrt(rms_corrected) + self.epsilon)\n"
   ]
  },
  {
   "cell_type": "markdown",
   "id": "532f439f-2ade-4b62-aa9c-55ff9fabbb9c",
   "metadata": {},
   "source": [
    "#### Neural network for a regression task"
   ]
  },
  {
   "cell_type": "code",
   "execution_count": 8,
   "id": "049d249a-ceee-4609-9744-aa20ab66d483",
   "metadata": {},
   "outputs": [],
   "source": [
    "class NNRegressor:\n",
    "    def __init__(self, layers_dims, weight_init=\"He\", bias=True, activation_function=None):\n",
    "        \"\"\"\n",
    "            Initializes the neural network with the specified parameters.\n",
    "        \"\"\"\n",
    "        self.bias = bias\n",
    "        self.total = 0\n",
    "        self.memory = {}\n",
    "        self.gradients = {}\n",
    "        self.parameters = {}\n",
    "        self.layers_dims = layers_dims\n",
    "        self.number_of_layers = len(self.layers_dims)\n",
    "        self.weight_init = weight_init\n",
    "        self.initialize_weights() # initialization of parameters with \"weight_init\" method\n",
    "        self.activation_function, self.activation_derivative = self.get_activation_functions(activation_function)\n",
    "\n",
    "    \n",
    "\n",
    "    def initialize_weights(self):\n",
    "        \"\"\"\n",
    "        Initializes the weights and biases of the neural network.Three cases He, Xavier or Randomly with scale\n",
    "        \"\"\"\n",
    "        #for layer, layer_dim in enumerate(tuple(zip(self.layers_dims, self.layers_dims[1:])), start=1):\n",
    "        for l in range(1, self.number_of_layers):\n",
    "            previous_layer_dim, current_layer_dim = self.layers_dims[l-1], self.layers_dims[l]#layer_dim\n",
    "\n",
    "            if self.weight_init.lower() == \"he\":\n",
    "                scale = np.sqrt(2 / previous_layer_dim)\n",
    "            elif self.weight_init.lower() == \"xavier\":\n",
    "                scale = np.sqrt(1 / previous_layer_dim)\n",
    "            else:\n",
    "                scale = .001\n",
    "\n",
    "            self.parameters[\"W\" + str(l)] = np.random.randn(current_layer_dim, previous_layer_dim) * scale\n",
    "            if self.bias:\n",
    "                self.parameters[\"B\" + str(l)] = np.zeros((current_layer_dim, 1))\n",
    "\n",
    "    \n",
    "\n",
    "    \n",
    "    def get_activation_functions(self, activation):\n",
    "        \"\"\"\n",
    "        get the activation function and its derivative based on the provided activation name.\n",
    "        \"\"\"\n",
    "        activation = activation.lower() if activation else \"relu\"\n",
    "        \n",
    "        if activation not in dict_activation:\n",
    "            raise ValueError(f\"Invalid activation function: {activation}. Supported values: {list(dict_activation.keys())}\")\n",
    "    \n",
    "        return dict_activation[activation]\n",
    "\n",
    "\n",
    "    \n",
    "    def forward(self, x):\n",
    "        \"\"\"\n",
    "            Performs the forward pass through the neural network.\n",
    "            m is number of example\n",
    "        \"\"\"\n",
    "        self.memory[\"A\" + str(0)] = A_previous = x\n",
    "        # Hidden(s) layer(s)\n",
    "        for l in range(1, self.number_of_layers - 1):\n",
    "            W = self.parameters[\"W\" + str(l)]\n",
    "            if self.bias:\n",
    "                B = self.parameters[\"B\" + str(l)]\n",
    "                Z = np.dot(W, A_previous) + B\n",
    "            else: \n",
    "                Z = np.dot(W, A_previous)\n",
    "            self.memory[\"Z\" + str(l)] = Z\n",
    "            A_current = self.activation_function(Z)\n",
    "            self.memory[\"A\" + str(l)] = A_current\n",
    "            A_previous = A_current\n",
    "            \n",
    "        # Output layer\n",
    "        W = self.parameters[\"W\" + str(self.number_of_layers - 1)]\n",
    "        if self.bias: \n",
    "            B = self.parameters[\"B\" + str(self.number_of_layers - 1)]\n",
    "            Z = np.dot(W, A_previous) + B\n",
    "        else:\n",
    "            Z = np.dot(W, A_previous)\n",
    "        self.memory[\"Z\" + str(self.number_of_layers - 1)] = Z\n",
    "        x = Z\n",
    "        return x\n",
    "\n",
    "\n",
    "    \n",
    "    def backward(self, X, Y, Y_hat):\n",
    "        \"\"\"\n",
    "            Performs the backward pass (backpropagation) through the neural network to compute gradients.\n",
    "            Keys represent parameter names (e.g., 'dW1', 'dB2'), and values are the corresponding gradients.\n",
    "        \"\"\"\n",
    "        m = X.shape[1]\n",
    "        dZ = 2/m * (Y_hat - Y) # not activation function \n",
    "        \n",
    "        # For output layer\n",
    "        self.memory[\"dZ\" + str(self.number_of_layers - 1)] = dZ\n",
    "        A_previous = self.memory[\"A\" + str(self.number_of_layers - 2)]                         \n",
    "        self.gradients[\"dW\" + str(self.number_of_layers - 1)] = np.dot(dZ, A_previous.T) / m    \n",
    "        if self.bias:\n",
    "            self.gradients[\"dB\" + str(self.number_of_layers - 1)] = np.sum(dZ, axis=1, keepdims=True) / m\n",
    "\n",
    "        # For Hidden(s) layer(s)\n",
    "        for l in reversed(range(1, self.number_of_layers - 1)):\n",
    "            W_next = self.parameters[\"W\" + str(l + 1)]\n",
    "            dZ_next = self.memory[\"dZ\" + str(l + 1)]\n",
    "            Z_current = self.memory[\"Z\" + str(l)]\n",
    "            A_previous = self.memory[\"A\" + str(l - 1)]\n",
    "            dZ_current = np.multiply(np.dot(W_next.T, dZ_next), np.vectorize(self.activation_derivative)(Z_current))\n",
    "            self.gradients[\"dW\" + str(l)] = np.dot(dZ_current, A_previous.T) / m \n",
    "            if self.bias:\n",
    "                self.gradients[\"dB\" + str(l)] = np.sum(dZ_current, axis=1, keepdims=True) / m\n",
    "            self.memory[\"dZ\" + str(l)] = dZ_current\n",
    "\n",
    "        return self.gradients\n",
    "\n",
    "\n",
    "\n",
    "    def total_parameters(self):\n",
    "        \"\"\"\n",
    "        Calculates the total number of parameters in the neural network.\n",
    "        \"\"\"\n",
    "        self.total = 0\n",
    "        for i in range(1, self.number_of_layers):\n",
    "            if self.bias:\n",
    "                self.total += self.layers_dims[i] * (self.layers_dims[i - 1] + 1)\n",
    "            else:\n",
    "                self.total += self.layers_dims[i] * (self.layers_dims[i - 1])\n",
    "        return self.total\n",
    "        \n",
    "\n",
    "    def predict(self, x):\n",
    "        \"\"\"\n",
    "        Perform value predictions using the trained neural network.\n",
    "       \"\"\"\n",
    "        A = x\n",
    "        # Hidden layer(s)\n",
    "        for l in range(1, self.number_of_layers - 1):\n",
    "            W = self.parameters[\"W\" + str(l)]\n",
    "            if self.bias:\n",
    "                B = self.parameters[\"B\" + str(l)]\n",
    "                x = self.activation_function(np.dot(W, x) + B)\n",
    "            else:\n",
    "                 x = self.activation_function(np.dot(W, x))\n",
    "                \n",
    "        # Output layer\n",
    "        W = self.parameters[\"W\" + str(self.number_of_layers - 1)]\n",
    "        if self.bias:\n",
    "            B = self.parameters[\"B\" + str(self.number_of_layers - 1)]\n",
    "            out = np.dot(W, x) + B\n",
    "        else:\n",
    "            out = np.dot(W, x) \n",
    "        return out\n",
    "\n",
    "\n",
    "\n",
    "\n",
    "    def check_gradient(self):\n",
    "        \"\"\"\n",
    "        Placeholder for a method that could be used to check gradients.\n",
    "        \"\"\"\n",
    "        pass\n",
    "\n",
    "    def __call__(self, x):\n",
    "        \"\"\"\n",
    "        Makes the object callable, allowing for convenient use like a function.\n",
    "        \"\"\"\n",
    "        return self.forward(x)\n",
    "\n",
    "    def __repr__(self):\n",
    "        \"\"\"\n",
    "        Returns a string representation of the neural network object.\n",
    "        \"\"\"\n",
    "        layer_info = \"\"\n",
    "        for i in range(1, self.number_of_layers - 1):\n",
    "            layer_info += f\"\\n\\tLayer {i}: Linear(in_dim={self.layers_dims[i-1]}, out_dim={self.layers_dims[i]}, bias={self.bias})\\\n",
    "            \\n\\tActivation function: {self.activation_function.__name__}()\"\n",
    "\n",
    "        return f\"NN model with {self.number_of_layers} layers of which {self.number_of_layers - 2} hidden layer\\\n",
    "       \\n\\n\\t(Input layer): (Layer 0 : (dim={self.layers_dims[0]})\\\n",
    "       \\n\\t(Hidden layers): ({layer_info})\\\n",
    "       \\n\\t(Output layer): (Layer {self.number_of_layers - 1} Linear(in_dim={self.layers_dims[-2]}, out_dim={self.layers_dims[-1]}, bias={self.bias})\"\n",
    "\n",
    "    def __str__(self):\n",
    "        \"\"\"\n",
    "        Returns a string representation of the neural network object.\n",
    "        \"\"\"\n",
    "        return self.__repr__()"
   ]
  },
  {
   "cell_type": "markdown",
   "id": "1c5bf151-1634-4e6d-ad43-668203ce75ba",
   "metadata": {},
   "source": [
    "#### Hyperparameters and instanciations"
   ]
  },
  {
   "cell_type": "code",
   "execution_count": 9,
   "id": "dc886721-4081-452d-ab19-b692e8796646",
   "metadata": {},
   "outputs": [
    {
     "name": "stdout",
     "output_type": "stream",
     "text": [
      "NN model with 3 layers of which 1 hidden layer       \n",
      "\n",
      "\t(Input layer): (Layer 0 : (dim=16)       \n",
      "\t(Hidden layers): (\n",
      "\tLayer 1: Linear(in_dim=16, out_dim=512, bias=True)            \n",
      "\tActivation function: Tanh())       \n",
      "\t(Output layer): (Layer 2 Linear(in_dim=512, out_dim=1, bias=True) \n",
      "\n",
      "Number of parameters:  0.009217 Million(s)\n"
     ]
    }
   ],
   "source": [
    "# hyperparameters\n",
    "lr = .4\n",
    "nb_iter  =  2000\n",
    "output = 1\n",
    "input_dim = 16\n",
    "layers_dims = [input_dim, 512, output]\n",
    "\n",
    "np.random.seed(6) # to have the same initial values ​​at runtime\n",
    "\n",
    "# criterion  and optimizer\n",
    "criterion = mse_loss\n",
    "optim = Optimizer()\n",
    "\n",
    "# model\n",
    "model = NNRegressor(layers_dims, weight_init=\"Xavier\", activation_function=\"tanh\")\n",
    "print(f\"{model} \\n\\nNumber of parameters:  {model.total_parameters()/1e6} Million(s)\")\n",
    "\n",
    "# training and dev logs\n",
    "train_loss, dev_loss = [], []"
   ]
  },
  {
   "cell_type": "markdown",
   "id": "b8fce917-f0a0-4be7-a1a8-da20cb4f7738",
   "metadata": {},
   "source": [
    "#### Training loop"
   ]
  },
  {
   "cell_type": "code",
   "execution_count": 10,
   "id": "d2e76a92-cc47-4bda-83b5-f33d397ef286",
   "metadata": {},
   "outputs": [
    {
     "name": "stdout",
     "output_type": "stream",
     "text": [
      "iter: [0/2000]  Train loss: 5759240 | Dev loss: 5778393\n",
      "iter: [200/2000]  Train loss: 354616 | Dev loss: 366701\n",
      "iter: [400/2000]  Train loss: 182331 | Dev loss: 199470\n",
      "iter: [600/2000]  Train loss: 135302 | Dev loss: 154342\n",
      "iter: [800/2000]  Train loss: 119819 | Dev loss: 140174\n",
      "iter: [1000/2000]  Train loss: 110941 | Dev loss: 131009\n",
      "iter: [1200/2000]  Train loss: 104349 | Dev loss: 125172\n",
      "iter: [1400/2000]  Train loss: 103513 | Dev loss: 123096\n",
      "iter: [1600/2000]  Train loss: 99474 | Dev loss: 123352\n",
      "iter: [1800/2000]  Train loss: 97333 | Dev loss: 119427\n"
     ]
    }
   ],
   "source": [
    "for i in range(nb_iter):\n",
    "    # step 1:  Forward\n",
    "    y_hat = model(X_train)\n",
    "    # step 2: Compute loss\n",
    "    loss = np.sqrt(criterion(y_train, y_hat)) # rmse loss\n",
    "    # step 3: Backward \n",
    "    grad = model.backward(X_train, y_train, y_hat)\n",
    "    # step 4: update parameters\n",
    "    optim.update_parameters_SGD_with_momentum(model, learning_rate=lr)\n",
    "    # store loss \n",
    "    train_loss.append(loss)\n",
    "\n",
    "    # Validation mode: use predict\n",
    "    y_hat_dev = model.predict(X_dev).reshape(-1).tolist()\n",
    "    loss_dev = np.sqrt(criterion(y_dev, y_hat_dev))\n",
    "    dev_loss.append(loss_dev)\n",
    "    if i % 200 == 0:\n",
    "        print(f\"iter: [{i}/{nb_iter}]  Train loss: {round(train_loss[-1])} | Dev loss: {round(dev_loss[-1])}\")"
   ]
  },
  {
   "cell_type": "markdown",
   "id": "979df16f-5d80-4a98-bc2d-af243af96afd",
   "metadata": {},
   "source": [
    "#### Visualize training logs"
   ]
  },
  {
   "cell_type": "code",
   "execution_count": 11,
   "id": "3781337c-9fcb-456a-ac6d-7e85667a63d9",
   "metadata": {},
   "outputs": [
    {
     "data": {
      "text/plain": [
       "2000"
      ]
     },
     "execution_count": 11,
     "metadata": {},
     "output_type": "execute_result"
    }
   ],
   "source": [
    "len(dev_loss)"
   ]
  },
  {
   "cell_type": "code",
   "execution_count": 12,
   "id": "fb7215c7-8e3f-483b-b648-2fbece8ccc52",
   "metadata": {},
   "outputs": [
    {
     "data": {
      "image/png": "[encoded data removed]",
      "text/plain": [
       "<Figure size 640x480 with 1 Axes>"
      ]
     },
     "metadata": {},
     "output_type": "display_data"
    }
   ],
   "source": [
    "plt.plot(range(1,nb_iter+1), train_loss, label=\"train loss\")\n",
    "plt.plot(range(1,nb_iter+1), dev_loss, label=\"dev loss\")\n",
    "plt.title(\"Loss in Train vs. Dev\")\n",
    "plt.legend()\n",
    "plt.show()"
   ]
  },
  {
   "cell_type": "markdown",
   "id": "dcd00e33-1b77-4481-b090-7895f07eeacc",
   "metadata": {},
   "source": [
    "#### Prediction"
   ]
  },
  {
   "cell_type": "code",
   "execution_count": 13,
   "id": "53908618-d9db-447b-ae25-301e78606b41",
   "metadata": {},
   "outputs": [
    {
     "data": {
      "text/html": [
       "<div>\n",
       "<style scoped>\n",
       "    .dataframe tbody tr th:only-of-type {\n",
       "        vertical-align: middle;\n",
       "    }\n",
       "\n",
       "    .dataframe tbody tr th {\n",
       "        vertical-align: top;\n",
       "    }\n",
       "\n",
       "    .dataframe thead th {\n",
       "        text-align: right;\n",
       "    }\n",
       "</style>\n",
       "<table border=\"1\" class=\"dataframe\">\n",
       "  <thead>\n",
       "    <tr style=\"text-align: right;\">\n",
       "      <th></th>\n",
       "      <th>price</th>\n",
       "      <th>pred</th>\n",
       "    </tr>\n",
       "  </thead>\n",
       "  <tbody>\n",
       "    <tr>\n",
       "      <th>0</th>\n",
       "      <td>7559081.5</td>\n",
       "      <td>7.641318e+06</td>\n",
       "    </tr>\n",
       "    <tr>\n",
       "      <th>2</th>\n",
       "      <td>5574642.1</td>\n",
       "      <td>5.737763e+06</td>\n",
       "    </tr>\n",
       "    <tr>\n",
       "      <th>15</th>\n",
       "      <td>7607322.9</td>\n",
       "      <td>7.715967e+06</td>\n",
       "    </tr>\n",
       "    <tr>\n",
       "      <th>18</th>\n",
       "      <td>2604486.6</td>\n",
       "      <td>2.620140e+06</td>\n",
       "    </tr>\n",
       "    <tr>\n",
       "      <th>20</th>\n",
       "      <td>2888047.9</td>\n",
       "      <td>2.987163e+06</td>\n",
       "    </tr>\n",
       "    <tr>\n",
       "      <th>...</th>\n",
       "      <td>...</td>\n",
       "      <td>...</td>\n",
       "    </tr>\n",
       "    <tr>\n",
       "      <th>9974</th>\n",
       "      <td>601531.4</td>\n",
       "      <td>5.767606e+05</td>\n",
       "    </tr>\n",
       "    <tr>\n",
       "      <th>9983</th>\n",
       "      <td>8766795.5</td>\n",
       "      <td>8.832648e+06</td>\n",
       "    </tr>\n",
       "    <tr>\n",
       "      <th>9986</th>\n",
       "      <td>2701055.3</td>\n",
       "      <td>2.612520e+06</td>\n",
       "    </tr>\n",
       "    <tr>\n",
       "      <th>9989</th>\n",
       "      <td>9112369.0</td>\n",
       "      <td>9.188656e+06</td>\n",
       "    </tr>\n",
       "    <tr>\n",
       "      <th>9995</th>\n",
       "      <td>176425.9</td>\n",
       "      <td>2.769792e+05</td>\n",
       "    </tr>\n",
       "  </tbody>\n",
       "</table>\n",
       "<p>2000 rows × 2 columns</p>\n",
       "</div>"
      ],
      "text/plain": [
       "          price          pred\n",
       "0     7559081.5  7.641318e+06\n",
       "2     5574642.1  5.737763e+06\n",
       "15    7607322.9  7.715967e+06\n",
       "18    2604486.6  2.620140e+06\n",
       "20    2888047.9  2.987163e+06\n",
       "...         ...           ...\n",
       "9974   601531.4  5.767606e+05\n",
       "9983  8766795.5  8.832648e+06\n",
       "9986  2701055.3  2.612520e+06\n",
       "9989  9112369.0  9.188656e+06\n",
       "9995   176425.9  2.769792e+05\n",
       "\n",
       "[2000 rows x 2 columns]"
      ]
     },
     "execution_count": 13,
     "metadata": {},
     "output_type": "execute_result"
    }
   ],
   "source": [
    "df_dev[\"pred\"] = model.predict(X_dev).reshape(-1).tolist()\n",
    "df_dev.loc[:, [\"price\", \"pred\"]]"
   ]
  },
  {
   "cell_type": "markdown",
   "id": "2d394d13-2bc0-4b97-8655-917137b8b012",
   "metadata": {},
   "source": [
    "#### Error distribution"
   ]
  },
  {
   "cell_type": "code",
   "execution_count": 14,
   "id": "3add28c5-3709-4fd8-8e13-7eda23eb2bd8",
   "metadata": {},
   "outputs": [
    {
     "data": {
      "image/png": "[encoded data removed]",
      "text/plain": [
       "<Figure size 640x480 with 1 Axes>"
      ]
     },
     "metadata": {},
     "output_type": "display_data"
    }
   ],
   "source": [
    "E = (df_dev[\"price\"] - df_dev[\"pred\"]).tolist()\n",
    "\n",
    "plt.hist(E)\n",
    "plt.title(\"Error distribution\")\n",
    "plt.show()"
   ]
  },
  {
   "cell_type": "markdown",
   "id": "43479e6e-1313-4c09-b59e-b47480c146ea",
   "metadata": {},
   "source": [
    "#### RMSE in dev"
   ]
  },
  {
   "cell_type": "code",
   "execution_count": 15,
   "id": "b4100a32-9b82-4164-abd3-947c35bd2bbf",
   "metadata": {},
   "outputs": [
    {
     "name": "stdout",
     "output_type": "stream",
     "text": [
      "RMSE in dev: 122684\n"
     ]
    }
   ],
   "source": [
    "print(f\"RMSE in dev: {int(np.sqrt(np.mean(np.array(E)**2)))}\")"
   ]
  },
  {
   "cell_type": "code",
   "execution_count": null,
   "id": "ec1c2ead-a2ce-4f9a-9f24-1c05c4c49a63",
   "metadata": {},
   "outputs": [],
   "source": []
  }
 ],
 "metadata": {
  "kernelspec": {
   "display_name": "Python 3 (ipykernel)",
   "language": "python",
   "name": "python3"
  },
  "language_info": {
   "codemirror_mode": {
    "name": "ipython",
    "version": 3
   },
   "file_extension": ".py",
   "mimetype": "text/x-python",
   "name": "python",
   "nbconvert_exporter": "python",
   "pygments_lexer": "ipython3",
   "version": "3.11.7"
  }
 },
 "nbformat": 4,
 "nbformat_minor": 5
}
